{
 "cells": [
  {
   "cell_type": "markdown",
   "metadata": {},
   "source": [
    "## Practice Random Module "
   ]
  },
  {
   "cell_type": "code",
   "execution_count": 2,
   "metadata": {},
   "outputs": [],
   "source": [
    "import random"
   ]
  },
  {
   "cell_type": "code",
   "execution_count": 8,
   "metadata": {},
   "outputs": [
    {
     "name": "stdout",
     "output_type": "stream",
     "text": [
      "This is my list of numbers: [0, 1, 2, 3, 4]\n",
      "My lucky random number: 2\n"
     ]
    }
   ],
   "source": [
    "list = []\n",
    "\n",
    "for num in range(0,5):\n",
    "    list.append(num)\n",
    "    \n",
    "print(f\"This is my list of numbers: {list}\")\n",
    "\n",
    "chosen_random = random.randrange(0,len(list))\n",
    "print(f\"My lucky random number: {chosen_random}\")"
   ]
  },
  {
   "cell_type": "code",
   "execution_count": 10,
   "metadata": {},
   "outputs": [
    {
     "name": "stdout",
     "output_type": "stream",
     "text": [
      "This is my list of numbers: [0, 1, 2, 3, 4]\n",
      "My lucky random number: 1\n"
     ]
    }
   ],
   "source": [
    "list = [num for num in range(0,5)] #list comprehension\n",
    "\n",
    "print(f\"This is my list of numbers: {list}\")\n",
    "\n",
    "chosen_random = random.randrange(0,len(list))\n",
    "print(f\"My lucky random number: {chosen_random}\")"
   ]
  },
  {
   "cell_type": "code",
   "execution_count": null,
   "metadata": {},
   "outputs": [],
   "source": []
  }
 ],
 "metadata": {
  "kernelspec": {
   "display_name": "Python 3",
   "language": "python",
   "name": "python3"
  },
  "language_info": {
   "codemirror_mode": {
    "name": "ipython",
    "version": 3
   },
   "file_extension": ".py",
   "mimetype": "text/x-python",
   "name": "python",
   "nbconvert_exporter": "python",
   "pygments_lexer": "ipython3",
   "version": "3.13.0"
  }
 },
 "nbformat": 4,
 "nbformat_minor": 2
}
